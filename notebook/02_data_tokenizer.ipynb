{
 "cells": [
  {
   "cell_type": "code",
   "execution_count": 1,
   "metadata": {},
   "outputs": [
    {
     "name": "stderr",
     "output_type": "stream",
     "text": [
      "/localscratch/liangqi1/miniconda3/envs/homl3/lib/python3.10/site-packages/transformers/utils/generic.py:441: UserWarning: torch.utils._pytree._register_pytree_node is deprecated. Please use torch.utils._pytree.register_pytree_node instead.\n",
      "  _torch_pytree._register_pytree_node(\n"
     ]
    }
   ],
   "source": [
    "import pandas as pd\n",
    "from transformers import BertTokenizer"
   ]
  },
  {
   "cell_type": "code",
   "execution_count": 3,
   "metadata": {},
   "outputs": [],
   "source": [
    "# 1. 读取 CSV 文件\n",
    "csv_path = '/egr/research-slim/liangqi1/LLM/transformer-study/data/pretrain_data.csv'  # 替换为你的 CSV 文件路径\n",
    "df = pd.read_csv(csv_path)"
   ]
  },
  {
   "cell_type": "code",
   "execution_count": 4,
   "metadata": {},
   "outputs": [
    {
     "name": "stdout",
     "output_type": "stream",
     "text": [
      "                                                text\n",
      "0  我们生产的食品消泡剂，具有可以快速消除泡沫的特点。\\n丹东食品消泡剂相关内容：一般而言，纯水...\n",
      "1  程总在座谈中首先向学校的客人介绍了三一集团和北京三一重机的情况，以及在公司快速发展过程中对人...\n",
      "2  白癜风病人调节心理要偶尔也要屈服。能屈能伸，能进能退，轻松自如；凡事认真，一味固执，肯定烦恼...\n",
      "3  对全校教学保障、教学建设、教学管理、教学运行和教学改革等进行质量监控和评价。\\n贯彻执行党的...\n",
      "4  有趣的是，库里在第三节上篮时被防守球员犯规，但裁判并未理会，怒不可遏的库里对着裁判一顿输出，...\n"
     ]
    }
   ],
   "source": [
    "print(df.head())"
   ]
  },
  {
   "cell_type": "code",
   "execution_count": 6,
   "metadata": {},
   "outputs": [],
   "source": [
    "# 2. 初始化 Tokenizer\n",
    "# 对于中文任务，可以使用 'bert-base-chinese' 或其他适合中文的模型\n",
    "# 2. Initialize Tokenizer\n",
    "# For Chinese tasks, you can use 'bert-base-chinese' or other Chinese-appropriate models\n",
    "tokenizer = BertTokenizer.from_pretrained('bert-base-chinese')\n"
   ]
  },
  {
   "cell_type": "code",
   "execution_count": 8,
   "metadata": {},
   "outputs": [
    {
     "name": "stdout",
     "output_type": "stream",
     "text": [
      "torch.Size([10, 489])\n"
     ]
    }
   ],
   "source": [
    "# 如果文本比较多，建议使用批处理，方便后续转换为 tensor 等操作\n",
    "# If there is a lot of text, it is recommended to use batch processing to facilitate the subsequent conversion to tensor and other operations.\n",
    "encoded_texts = tokenizer(\n",
    "    df['text'].tolist()[:10],\n",
    "    padding=True,         # 自动对齐填充到相同长度\n",
    "    truncation=True,      # 超长文本进行截断\n",
    "    max_length=512,       # 设置最大长度，根据需求调整\n",
    "    return_tensors=\"pt\"   # 返回 PyTorch 的 tensor 格式\n",
    ")\n",
    "\n",
    "print(encoded_texts.input_ids.shape)"
   ]
  },
  {
   "cell_type": "code",
   "execution_count": 22,
   "metadata": {},
   "outputs": [
    {
     "data": {
      "text/plain": [
       "tensor([ 101, 2769,  812, 4495,  772, 4638, 7608, 1501, 3867, 3796, 1177, 8024,\n",
       "        1072, 3300, 1377,  809, 2571, 6862, 3867, 7370, 3796, 3773, 4638, 4294,\n",
       "        4157,  511,  710,  691, 7608, 1501, 3867, 3796, 1177, 4685, 1068, 1079,\n",
       "        2159, 8038,  671, 5663, 5445, 6241, 8024, 5283, 3717, 1469, 5283, 6134,\n",
       "        7481, 3833, 2595, 1177,  679, 6629, 3796, 8024, 6821, 3221, 1728,  711,\n",
       "        2124,  812, 4638, 6134, 7481, 1469, 1079, 6956, 3221, 1772, 1258, 4638,\n",
       "        8024, 2523, 7410, 2501, 2768, 2486, 2595, 5946, 5606, 8024, 1315,  886,\n",
       "        2501, 2768,  771,  679, 4937, 2137, 8024,  833, 4746, 7313, 3867, 1927,\n",
       "         511,  710,  691, 7608, 1501, 3867, 3796, 1177, 6848, 2885, 8038,  122,\n",
       "         119, 4685, 2159, 2595, 8038, 4685, 2159, 2595, 3221, 2900,  697, 4905,\n",
       "        2772, 5442,  697, 4905,  809,  677, 4289, 6574, 3921, 1394, 3198, 8024,\n",
       "         679,  772, 4495, 4685, 3166, 1146, 4895, 4385, 6496, 4638, 5543, 1213,\n",
       "        8024, 4685, 2159, 2595, 1962, 8024, 3867, 3796, 1177, 2218, 5543, 1916,\n",
       "        7270, 3309,  510, 4937, 2137,  510, 1772, 1258, 1765, 2100, 1762,  754,\n",
       "         860, 5143,  704, 8024, 6822, 5445, 1355, 2916, 3867, 2829, 3796, 4638,\n",
       "         868, 4500, 8039, 1353,  722, 8024, 2218,  833, 1139, 4385, 1146, 2231,\n",
       "        5023, 4385, 6496, 8024,  886, 3867, 3796, 1177, 4638, 3867, 3796, 2339,\n",
       "         868, 3187, 3791, 3633, 2382, 6822, 6121,  511,  123,  119, 3867, 3796,\n",
       "        5543, 1213, 8038, 3867, 3796, 5543, 1213, 3221, 3867, 3796, 1177, 4638,\n",
       "        3297,  712, 6206, 2595, 5543, 8024, 7063, 1166, 3634, 7555, 2595, 5543,\n",
       "        4638, 3403, 1114, 3221, 1762, 1398, 5023, 3340,  816,  678, 8024, 1146,\n",
       "        1166, 1217, 1057, 5023, 7030,  679, 1398, 4638, 3867, 3796, 1177, 8024,\n",
       "        6225, 2175, 3867, 3796, 1177, 4638, 3867, 3796, 6862, 2428,  511,  102,\n",
       "           0,    0,    0,    0,    0,    0,    0,    0,    0,    0,    0,    0,\n",
       "           0,    0,    0,    0,    0,    0,    0,    0,    0,    0,    0,    0,\n",
       "           0,    0,    0,    0,    0,    0,    0,    0,    0,    0,    0,    0,\n",
       "           0,    0,    0,    0,    0,    0,    0,    0,    0,    0,    0,    0,\n",
       "           0,    0,    0,    0,    0,    0,    0,    0,    0,    0,    0,    0,\n",
       "           0,    0,    0,    0,    0,    0,    0,    0,    0,    0,    0,    0,\n",
       "           0,    0,    0,    0,    0,    0,    0,    0,    0,    0,    0,    0,\n",
       "           0,    0,    0,    0,    0,    0,    0,    0,    0,    0,    0,    0,\n",
       "           0,    0,    0,    0,    0,    0,    0,    0,    0,    0,    0,    0,\n",
       "           0,    0,    0,    0,    0,    0,    0,    0,    0,    0,    0,    0,\n",
       "           0,    0,    0,    0,    0,    0,    0,    0,    0,    0,    0,    0,\n",
       "           0,    0,    0,    0,    0,    0,    0,    0,    0,    0,    0,    0,\n",
       "           0,    0,    0,    0,    0,    0,    0,    0,    0,    0,    0,    0,\n",
       "           0,    0,    0,    0,    0,    0,    0,    0,    0,    0,    0,    0,\n",
       "           0,    0,    0,    0,    0,    0,    0,    0,    0,    0,    0,    0,\n",
       "           0,    0,    0,    0,    0,    0,    0,    0,    0,    0,    0,    0,\n",
       "           0,    0,    0,    0,    0,    0,    0,    0,    0,    0,    0,    0,\n",
       "           0,    0,    0,    0,    0,    0,    0,    0,    0])"
      ]
     },
     "execution_count": 22,
     "metadata": {},
     "output_type": "execute_result"
    }
   ],
   "source": [
    "encoded_texts.input_ids[0]"
   ]
  },
  {
   "cell_type": "code",
   "execution_count": 21,
   "metadata": {},
   "outputs": [
    {
     "data": {
      "text/plain": [
       "tensor(276)"
      ]
     },
     "execution_count": 21,
     "metadata": {},
     "output_type": "execute_result"
    }
   ],
   "source": [
    "encoded_texts.input_ids[0].count_nonzero()"
   ]
  },
  {
   "cell_type": "markdown",
   "metadata": {},
   "source": [
    "* 在大多数使用 BERT tokenizer 的模型中，101 通常表示特殊的 [CLS] token（Classification Token），用于标记输入序列的开始，并在后续任务（例如分类）中作为整个句子的代表。\n",
    "\n",
    "* In most models using the BERT tokenizer, 101 usually denotes the special [CLS] token (Classification Token) that is used to mark the beginning of the input sequence and is used as a representation of the whole sentence in subsequent tasks (e.g., classification)."
   ]
  },
  {
   "cell_type": "code",
   "execution_count": 17,
   "metadata": {},
   "outputs": [
    {
     "data": {
      "text/plain": [
       "'我们生产的食品消泡剂，具有可以快速消除泡沫的特点。\\n丹东食品消泡剂相关内容：一般而言，纯水和纯表面活性剂不起泡，这是因为它们的表面和内部是均匀的，很难形成弹性薄膜，即使形成亦不稳定，会瞬间消失。\\n丹东食品消泡剂选择：\\n1. 相容性：相容性是指两种或者两种以上物质混合时，不产生相斥分离现象的能力，相容性好，消泡剂就能够长期、稳定、均匀地存在于体系中，进而发挥消抑泡的作用；反之，就会出现分层等现象，使消泡剂的消泡工作无法正常进行。\\n2. 消泡能力：消泡能力是消泡剂的最主要性能，鉴别此项性能的标准是在同等条件下，分别加入等量不同的消泡剂，观察消泡剂的消泡速度。'"
      ]
     },
     "execution_count": 17,
     "metadata": {},
     "output_type": "execute_result"
    }
   ],
   "source": [
    "df['text'].tolist()[0]"
   ]
  },
  {
   "cell_type": "code",
   "execution_count": 18,
   "metadata": {},
   "outputs": [
    {
     "data": {
      "text/plain": [
       "280"
      ]
     },
     "execution_count": 18,
     "metadata": {},
     "output_type": "execute_result"
    }
   ],
   "source": [
    "len(df['text'].tolist()[0])"
   ]
  },
  {
   "cell_type": "code",
   "execution_count": null,
   "metadata": {},
   "outputs": [],
   "source": []
  }
 ],
 "metadata": {
  "kernelspec": {
   "display_name": "transformer",
   "language": "python",
   "name": "python3"
  },
  "language_info": {
   "codemirror_mode": {
    "name": "ipython",
    "version": 3
   },
   "file_extension": ".py",
   "mimetype": "text/x-python",
   "name": "python",
   "nbconvert_exporter": "python",
   "pygments_lexer": "ipython3",
   "version": "3.10.14"
  }
 },
 "nbformat": 4,
 "nbformat_minor": 2
}
