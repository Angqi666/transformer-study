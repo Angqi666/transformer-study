{
 "cells": [
  {
   "cell_type": "code",
   "execution_count": 1,
   "metadata": {},
   "outputs": [],
   "source": [
    "import jsonlines  \n",
    "import csv        \n",
    "import itertools  "
   ]
  },
  {
   "cell_type": "markdown",
   "metadata": {},
   "source": [
    "- **Module import**:  \n",
    "  - `jsonlines` Used to read JSON Lines format files line by line.  \n",
    "  - `csv` is used to write the processed data to a CSV file.  \n",
    "  - `islice` in `itertools` is used to read data in chunks to prevent loading the whole large file at once."
   ]
  },
  {
   "cell_type": "markdown",
   "metadata": {},
   "source": [
    "- **File manipulation**:  \n",
    "  Use nested `with` statements to open both a JSON Lines file (for reading) let's look what it in the raw data."
   ]
  },
  {
   "cell_type": "code",
   "execution_count": 3,
   "metadata": {},
   "outputs": [
    {
     "name": "stdout",
     "output_type": "stream",
     "text": [
      "{'text': '在查处虚开增值税专用发票案件中，常常涉及进项留抵税额和税款损失的认定和处理。在计算税款损失时，要不要将进项留抵税额包括在内？\\n对此，实务中存在意见分歧。\\n有人主张归并，即计算税款损失时包括进项留抵税额；\\n有人主张剥离，即计算税款损失时剔除进项留抵税额。分析这个问题，需要确定进项留抵税额与税款损失之间是什么关系。\\n理清这二者之间的关系，首先需要了解增值税的概念和其抵扣机制。增值税是以商品（货物、服务等）在流转过程中产生的增值额作为计税依据而征收的一种流转税。为避免重复征税，在增值税中存在抵扣链条机制。\\n一般而言，交易上游企业缴纳的税额，交易下游企业可以对相应的税额进行抵扣。\\n对增值税一般纳税人来说，其购进货物、服务等取得增值税专用发票，发票上的税额是进项税额。\\n其出售货物、服务等，向购买方开具增值税专用发票，发票的税额是销项税额。\\n一般情况下，销项税额减去进项税额的金额是应纳税额，企业根据应纳税额按期申报纳税。\\n其次需要了解进项留抵税额的概念及产生原因。\\n在计算销项税额和进项税额的差额时，有时会出现负数，即当期进项税额大于当期销项税额。这个差额在当期未实现抵扣，为进项留抵税额，在以后纳税人有销项税额时再进行抵扣。\\n企业产生进项留抵税额的主要原因是其进项税额和销项税额时间上的不一致。\\n例如，企业前期集中采购货物和服务，投资大，销项税率低于进项税率等。\\n从税款抵扣的角度看，进项留抵税额只是购进的这部分进项税额参与到增值税应纳税额的计算过程中，但是其对应的进项税额抵扣还未真正实现，一般要等到其未来有相应的销项税额时，才能真正实现进项税额抵扣。\\n可见，进项留抵税额处于不确定状态，能否抵扣受到很多因素影响，例如企业经营中断，没有销项税额，这时进项留抵税额就无法实现抵扣。但如果企业按照税收政策规定申请进项留抵退税，进项税额抵扣就随之实现。\\n最后需要了解税款损失的概念。\\n税款损失，通常是指因虚开增值税专用发票，导致国家税款被骗或者流失的金额。关于税款损失，实务中有多种表述。\\n例如，北京大学法学院教授陈兴良曾谈到虚开行为本身不会造成国家税款损失，只有利用发票抵扣时才会造成国家税款损失。刘兵等编著的《虚开增值税专用发票案例司法观点和案例解析》一书中提到：“给国家税款造成损失的数额，实际上就是被骗取的国家税款在侦查终结以前无法追回的部分。”\\n赵清海与王家欣合著的《增值税专用发票虚开的判定与预防》一书中提到：“司法实践中，受票方用虚开的增值税专用发票予以抵扣的税款，从而导致受票方应纳税额的减少是法院所认定的国家税款流失的金额。”\\n从这些表述可见，税款损失应该是实际造成的损失，不应包括不确定的部分——进项留抵税额，进项留抵税额与税款损失之间不能直接画等号。\\n综上分析，进项留抵税额，只是使国家税款处于可能被抵扣的状态，还没有真正造成国家税款流失，一般情况下应将其从税款损失中剥离，特殊条件下将其归并入税款损失。\\n例如，当纳税人造假按照税收政策规定申请进项留抵税额退税后，有关税款损失将会从危险状态转化成危害结果，这时候要将有关进项留抵税额并入税款损失。\\n所以，在虚开增值税专用发票案件中，一般情况下，如果以纳税人的进项税额作为税款损失的计算基数，在对其进行行政处罚或刑事处罚时，应把进项留抵税额从税款损失中剔除，但纳税人申请进项留抵退税的除外。这样处理，把处罚与危害结果相对应，体现行政处罚法的过罚相当原则和刑法的罚当其罪原则。'}\n"
     ]
    }
   ],
   "source": [
    "with jsonlines.open('/egr/research-slim/shared/LLM_data/mobvoi_seq_monkey_general_open_corpus.jsonl') as reader:\n",
    "    chunk = list(itertools.islice(reader, 10))\n",
    "    print(chunk[0])"
   ]
  },
  {
   "cell_type": "markdown",
   "metadata": {},
   "source": [
    "\n",
    "In . /code/data_process.py and write the eligible content to a CSV file. The main steps are as follows:\n",
    "1. **Open JSON Lines file**: Use `jsonlines` module to read large files, avoid loading into memory at once. 2.\n",
    "2. **Read in chunks**: Use `itertools.islice` to read data in chunks, reading `chunk_size` records at a time.\n",
    "3. **Data processing**:\n",
    "   - Iterate through the records in each chunk and extract the `text` field.\n",
    "   - If the text is longer than 512 characters, the record is skipped.\n",
    "   - Write the eligible text to a CSV file. 4.\n",
    "4. **Error Handling**: For `UnicodeDecodeError` error during reading, print the error message and skip the error line. 5.\n",
    "5. **Progress Output**: after each block of data is processed, output the index range of the block.\n",
    "\n",
    "---\n",
    "\n",
    "在./code/data_process.py 中并将符合条件的内容写入 CSV 文件。主要步骤如下：\n",
    "\n",
    "1. **打开 JSON Lines 文件**：使用 `jsonlines` 模块读取大文件，避免一次性加载到内存中。\n",
    "2. **分块读取**：利用 `itertools.islice` 按块读取数据，每次读取 `chunk_size` 条记录。\n",
    "3. **数据处理**：\n",
    "   - 遍历每个块中的记录，提取 `text` 字段。\n",
    "   - 如果文本长度大于 512 个字符，则跳过该记录。\n",
    "   - 将符合条件的文本写入 CSV 文件中。\n",
    "4. **错误处理**：对于读取过程中出现的 `UnicodeDecodeError` 错误，打印错误信息并跳过错误行。\n",
    "5. **进度输出**：每处理完一块数据后，输出该块的索引范围。\n"
   ]
  },
  {
   "cell_type": "markdown",
   "metadata": {},
   "source": []
  }
 ],
 "metadata": {
  "kernelspec": {
   "display_name": "transformer",
   "language": "python",
   "name": "python3"
  },
  "language_info": {
   "codemirror_mode": {
    "name": "ipython",
    "version": 3
   },
   "file_extension": ".py",
   "mimetype": "text/x-python",
   "name": "python",
   "nbconvert_exporter": "python",
   "pygments_lexer": "ipython3",
   "version": "3.8.20"
  }
 },
 "nbformat": 4,
 "nbformat_minor": 2
}
