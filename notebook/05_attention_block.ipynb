{
 "cells": [
  {
   "cell_type": "code",
   "execution_count": 1,
   "metadata": {},
   "outputs": [
    {
     "name": "stderr",
     "output_type": "stream",
     "text": [
      "/localscratch/liangqi1/miniconda3/envs/transformer/lib/python3.8/site-packages/tqdm/auto.py:21: TqdmWarning: IProgress not found. Please update jupyter and ipywidgets. See https://ipywidgets.readthedocs.io/en/stable/user_install.html\n",
      "  from .autonotebook import tqdm as notebook_tqdm\n"
     ]
    }
   ],
   "source": [
    "import torch\n",
    "import torch.nn as nn\n",
    "import torch.nn.functional as F\n",
    "import numpy as np\n",
    "from transformers import BertTokenizer\n"
   ]
  },
  {
   "cell_type": "code",
   "execution_count": 12,
   "metadata": {},
   "outputs": [
    {
     "name": "stderr",
     "output_type": "stream",
     "text": [
      "<ipython-input-12-3fef5780bec7>:3: FutureWarning: You are using `torch.load` with `weights_only=False` (the current default value), which uses the default pickle module implicitly. It is possible to construct malicious pickle data which will execute arbitrary code during unpickling (See https://github.com/pytorch/pytorch/blob/main/SECURITY.md#untrusted-models for more details). In a future release, the default value for `weights_only` will be flipped to `True`. This limits the functions that could be executed during unpickling. Arbitrary objects will no longer be allowed to be loaded via this mode unless they are explicitly allowlisted by the user via `torch.serialization.add_safe_globals`. We recommend you start setting `weights_only=True` for any use case where you don't have full control of the loaded file. Please open an issue on GitHub for any issues related to this experimental feature.\n",
      "  encoded_texts = torch.load(save_path)\n"
     ]
    },
    {
     "name": "stdout",
     "output_type": "stream",
     "text": [
      "torch.Size([512, 256])\n",
      "torch.Size([512])\n"
     ]
    }
   ],
   "source": [
    "tokenizer = BertTokenizer.from_pretrained('bert-base-chinese')\n",
    "save_path = '/egr/research-slim/liangqi1/LLM/transformer-study/data/encoded_texts.pt'  # 替换为你的文件路径\n",
    "encoded_texts = torch.load(save_path)\n",
    "\n",
    "vocab_size = tokenizer.vocab_size  # 21128（BERT 预训练词汇表大小）\n",
    "embedding_dim = 256  # 768 维度（和 BERT 一致）\n",
    "\n",
    "# 定义嵌入层\n",
    "embedding_layer = nn.Embedding(vocab_size, embedding_dim)\n",
    "sample = encoded_texts.input_ids[0]\n",
    "mask = encoded_texts.attention_mask[0]\n",
    "embedded_tokens = embedding_layer(sample)\n",
    "print(embedded_tokens.shape)\n",
    "print(mask.shape)"
   ]
  },
  {
   "cell_type": "markdown",
   "metadata": {},
   "source": [
    "# **📌 Self-Attention & Multi-Head Attention（自注意力 & 多头注意力）**\n",
    "在 Transformer 模型中，注意力机制是核心部分。我们这里讨论 **单头注意力（Single-Head Attention）** 和 **多头注意力（Multi-Head Attention）** 的实现。\n",
    "\n",
    "---\n",
    "\n",
    "## **🔹 1. 单头注意力（Single-Head Attention）**\n",
    "### **📌 输入与维度**\n",
    "- **输入（X）**: `X.shape = (512, 256)`  \n",
    "  - **512**: 句子中的 token 数量（`seq_len=512`）。\n",
    "  - **256**: 每个 token 的特征维度（`embedding_dim=256`）。\n",
    "\n",
    "- **权重矩阵（Weight Matrices）**\n",
    "  - `W_q.shape = (256, 256)`\n",
    "  - `W_k.shape = (256, 256)`\n",
    "  - `W_v.shape = (256, 256)`\n",
    "\n",
    "- **计算 Q, K, V**\n",
    "  $$\n",
    "  Q = X W_q, \\quad K = X W_k, \\quad V = X W_v\n",
    "  $$\n",
    "  - `Q.shape = (512, 256)`\n",
    "  - `K.shape = (512, 256)`\n",
    "  - `V.shape = (512, 256)`\n",
    "\n",
    "### **📌 计算注意力**\n",
    "#### **🎯 1. 计算注意力分数（Attention Scores）**\n",
    "$$\n",
    "\\text{Attention Scores} = \\frac{Q K^T}{\\sqrt{d_k}}\n",
    "$$\n",
    "- `QK^T.shape = (512, 512)`，即 **每个 token 对所有 token 的相似度**。\n",
    "- `d_k = 256`，因此进行缩放 `\\sqrt{d_k}` 防止梯度过大。\n",
    "\n",
    "#### **🎯 2. 计算 Softmax 权重**\n",
    "$$\n",
    "\\text{Attention Weights} = \\text{softmax} \\left( \\frac{Q K^T}{\\sqrt{d_k}} \\right)\n",
    "$$\n",
    "- `Attention Weights.shape = (512, 512)`\n",
    "- 归一化使注意力分布在 `[0,1]` 之间。\n",
    "\n",
    "#### **🎯 3. 计算加权输出**\n",
    "$$\n",
    "\\text{Attention Output} = \\text{Attention Weights} \\cdot V\n",
    "$$\n",
    "- `Attention Output.shape = (512, 256)`\n",
    "\n"
   ]
  },
  {
   "cell_type": "code",
   "execution_count": 15,
   "metadata": {},
   "outputs": [
    {
     "data": {
      "text/plain": [
       "tensor([[[False, False, False,  ...,  True,  True,  True],\n",
       "         [False, False, False,  ...,  True,  True,  True],\n",
       "         [False, False, False,  ...,  True,  True,  True],\n",
       "         ...,\n",
       "         [False, False, False,  ...,  True,  True,  True],\n",
       "         [False, False, False,  ...,  True,  True,  True],\n",
       "         [False, False, False,  ...,  True,  True,  True]]])"
      ]
     },
     "execution_count": 15,
     "metadata": {},
     "output_type": "execute_result"
    }
   ],
   "source": [
    "## attentional mask construct\n",
    "seq_len = mask.shape[0]\n",
    "# 扩展维度，使其变为 (1, 1, seq_len, seq_len)\n",
    "attn_mask = mask.unsqueeze(0).unsqueeze(0).expand(1, seq_len, seq_len) == 0\n",
    "attn_mask"
   ]
  },
  {
   "cell_type": "code",
   "execution_count": 17,
   "metadata": {},
   "outputs": [],
   "source": [
    "import torch\n",
    "import torch.nn as nn\n",
    "import torch.nn.functional as F\n",
    "\n",
    "class SingleHeadAttention(nn.Module):\n",
    "    def __init__(self, d_model):\n",
    "        \"\"\"\n",
    "        单头注意力机制（Self-Attention）\n",
    "        :param d_model: 词嵌入维度（embedding_dim），比如 256\n",
    "        \"\"\"\n",
    "        super(SingleHeadAttention, self).__init__()\n",
    "        self.d_model = d_model  # 词向量维度\n",
    "        self.d_k = d_model  # 这里单头，所以 d_k = d_model\n",
    "\n",
    "        # 线性变换层，用于计算 Q, K, V\n",
    "        self.W_q = nn.Linear(d_model, d_model, bias=False)  # (d_model, d_model)\n",
    "        self.W_k = nn.Linear(d_model, d_model, bias=False)  # (d_model, d_model)\n",
    "        self.W_v = nn.Linear(d_model, d_model, bias=False)  # (d_model, d_model)\n",
    "        self.softmax = nn.Softmax(dim=-1)  # 用于计算注意力权重\n",
    "\n",
    "    def forward(self, x,attn_mask):\n",
    "        \"\"\"\n",
    "        前向传播\n",
    "        :param x: 输入张量 (batch_size, seq_len, d_model)\n",
    "        :return: 注意力输出 (batch_size, seq_len, d_model)\n",
    "        \"\"\"\n",
    "        # 计算 Q, K, V\n",
    "        Q = self.W_q(x)  # (batch_size, seq_len, d_model)\n",
    "        K = self.W_k(x)  # (batch_size, seq_len, d_model)\n",
    "        V = self.W_v(x)  # (batch_size, seq_len, d_model)\n",
    "\n",
    "        # 计算 QK^T / sqrt(d_k)\n",
    "        d_k = self.d_k ** 0.5  # 缩放因子\n",
    "        attention_scores = torch.matmul(Q, K.transpose(-2, -1)) / d_k  # (batch_size, seq_len, seq_len)\n",
    "        attention_scores.masked_fill_(attn_mask, -1e9)\n",
    "        # 计算 softmax 权重\n",
    "        attention_weights = self.softmax(attention_scores)  # (batch_size, seq_len, seq_len)\n",
    "\n",
    "        # 计算加权 V\n",
    "        attention_output = torch.matmul(attention_weights, V)  # (batch_size, seq_len, d_model)\n",
    "\n",
    "        return attention_output, attention_weights\n"
   ]
  },
  {
   "cell_type": "code",
   "execution_count": 18,
   "metadata": {},
   "outputs": [
    {
     "name": "stdout",
     "output_type": "stream",
     "text": [
      "Attention Output Shape: torch.Size([1, 512, 256])\n",
      "Attention Weights Shape: torch.Size([1, 512, 512])\n"
     ]
    }
   ],
   "source": [
    "# 定义超参数\n",
    "d_model = 256     # 词向量维度 256\n",
    "\n",
    "# 生成随机嵌入输入\n",
    "x = embedded_tokens.unsqueeze(0)\n",
    "\n",
    "# 初始化注意力层\n",
    "single_head_attention = SingleHeadAttention(d_model)\n",
    "\n",
    "# 运行注意力计算\n",
    "attention_output, attention_weights = single_head_attention(x,attn_mask)\n",
    "\n",
    "# 查看结果形状\n",
    "print(\"Attention Output Shape:\", attention_output.shape)  # (1, 10, 256)\n",
    "print(\"Attention Weights Shape:\", attention_weights.shape)  # (1, 10, 10)\n"
   ]
  },
  {
   "cell_type": "code",
   "execution_count": 19,
   "metadata": {},
   "outputs": [
    {
     "data": {
      "image/png": "[encoded data removed]",
      "text/plain": [
       "<Figure size 432x432 with 2 Axes>"
      ]
     },
     "metadata": {
      "needs_background": "light"
     },
     "output_type": "display_data"
    }
   ],
   "source": [
    "import matplotlib.pyplot as plt\n",
    "\n",
    "def plot_attention_weights(attention_weights):\n",
    "    plt.figure(figsize=(6,6))\n",
    "    plt.imshow(attention_weights[0].detach().numpy(), cmap='Blues')\n",
    "    plt.colorbar()\n",
    "    plt.xlabel(\"Key Positions\")\n",
    "    plt.ylabel(\"Query Positions\")\n",
    "    plt.title(\"Single-Head Attention Weights Heatmap\")\n",
    "    plt.show()\n",
    "\n",
    "# 绘制注意力热图\n",
    "plot_attention_weights(attention_weights)\n"
   ]
  },
  {
   "cell_type": "markdown",
   "metadata": {},
   "source": [
    "---\n",
    "\n",
    "## **🔹 2. 多头注意力（Multi-Head Attention, MHA）**\n",
    "### **📌 输入与维度**\n",
    "- **输入（X）**: `X.shape = (512, 256)`\n",
    "- **多头数量（num_heads）**: 设 `num_heads=8`\n",
    "- **每个头的 `d_k, d_v` 计算**\n",
    "  \n",
    "\n",
    "- **权重矩阵（Weight Matrices）**\n",
    "  - `W_q.shape = (256, 256)`\n",
    "  - `W_k.shape = (256, 256)`\n",
    "  - `W_v.shape = (256, 256)`\n",
    "\n",
    "- **计算 Q, K, V**\n",
    "  $$\n",
    "  Q = X W_q, \\quad K = X W_k, \\quad V = X W_v\n",
    "  $$\n",
    "  - `Q.shape = (512, 256)`\n",
    "  - `K.shape = (512, 256)`\n",
    "  - `V.shape = (512, 256)`\n",
    "\n",
    "- **拆分成 8 个头**\n",
    "  \n",
    "  $Q = Q.reshape(512, 8, 32), \\quad K = K.reshape(512, 8, 32), \\quad V = V.reshape(512, 8, 32)$\n",
    "  \n",
    "  - 现在 `Q, K, V` 变为 **(512, 8, 32)**，每个头计算一个 `d_k = 32` 的注意力。\n",
    "\n",
    "### **📌 计算多头注意力**\n",
    "#### **🎯 1. 每个头独立计算注意力**\n",
    "$$\n",
    "\\text{Attention}_i = \\text{softmax} \\left( \\frac{Q_i K_i^T}{\\sqrt{d_k}} \\right) V_i\n",
    "$$\n",
    "- `Q_i.shape = (512, 32)`\n",
    "- `K_i.shape = (512, 32)`\n",
    "- `V_i.shape = (512, 32)`\n",
    "- `Attention_i.shape = (512, 32)`\n",
    "\n",
    "#### **🎯 2. 拼接多个头**\n",
    "$$\n",
    "\\text{MultiHead Output} = \\text{Concat}(\\text{Attention}_1, ..., \\text{Attention}_8)\n",
    "$$\n",
    "- `Concat.shape = (512, 256)`\n",
    "\n",
    "#### **🎯 3. 最终线性变换**\n",
    "$$\n",
    "\\text{MultiHead Output} = \\text{Concat}(\\text{Attention}_1, ..., \\text{Attention}_8) W^O\n",
    "$$\n",
    "- `W_o.shape = (256, 256)`\n",
    "- `MultiHead Output.shape = (512, 256)`\n",
    "\n",
    "---\n",
    "\n"
   ]
  },
  {
   "cell_type": "code",
   "execution_count": 2,
   "metadata": {},
   "outputs": [],
   "source": [
    "class MultiHeadAttention(nn.Module):\n",
    "    def __init__(self, d_model, num_heads):\n",
    "        \"\"\"\n",
    "        多头注意力机制\n",
    "        :param d_model: 输入嵌入维度（比如 256）\n",
    "        :param num_heads: 头的数量（比如 8）\n",
    "        \"\"\"\n",
    "        super(MultiHeadAttention, self).__init__()\n",
    "        assert d_model % num_heads == 0, \"d_model 必须能被 num_heads 整除！\"\n",
    "        \n",
    "        self.d_model = d_model\n",
    "        self.num_heads = num_heads\n",
    "        self.d_k = d_model // num_heads  # 每个头的维度\n",
    "\n",
    "        # 线性变换矩阵\n",
    "        self.W_q = nn.Linear(d_model, d_model, bias=False)  \n",
    "        self.W_k = nn.Linear(d_model, d_model, bias=False)  \n",
    "        self.W_v = nn.Linear(d_model, d_model, bias=False)  \n",
    "        self.W_o = nn.Linear(d_model, d_model, bias=False)  \n",
    "\n",
    "        self.softmax = nn.Softmax(dim=-1)\n",
    "\n",
    "    def forward(self, x, attn_mask):\n",
    "        \"\"\"\n",
    "        :param x: 输入张量 (batch_size, seq_len, d_model)\n",
    "        :param attn_mask: Mask (batch_size, 1, seq_len) → 需要扩展为 (batch_size, num_heads, seq_len, seq_len)\n",
    "        :return: 多头注意力输出 (batch_size, seq_len, d_model)\n",
    "        \"\"\"\n",
    "        batch_size, seq_len, _ = x.shape\n",
    "\n",
    "        # 计算 Q, K, V\n",
    "        Q = self.W_q(x).view(batch_size, seq_len, self.num_heads, self.d_k).transpose(1, 2)\n",
    "        K = self.W_k(x).view(batch_size, seq_len, self.num_heads, self.d_k).transpose(1, 2)\n",
    "        V = self.W_v(x).view(batch_size, seq_len, self.num_heads, self.d_k).transpose(1, 2)\n",
    "\n",
    "        # 计算 Attention Scores\n",
    "        scores = torch.matmul(Q, K.transpose(-2, -1)) / (self.d_k ** 0.5)  # (batch_size, num_heads, seq_len, seq_len)\n",
    "\n",
    "        # 处理 Mask（True 的地方设为 -1e9，防止关注 Padding）\n",
    "        # 处理 Mask（True 的地方设为 -1e9，防止关注 Padding）\n",
    "        attn_mask = attn_mask.squeeze(1)  # 确保 Mask 维度正确 (batch_size, seq_len, seq_len)\n",
    "        attn_mask = attn_mask.unsqueeze(1).expand(batch_size, self.num_heads, seq_len, seq_len)  # (batch_size, num_heads, seq_len, seq_len)\n",
    "        scores.masked_fill_(attn_mask, -1e9)\n",
    "\n",
    "        # 计算 Softmax\n",
    "        attn = self.softmax(scores)  # (batch_size, num_heads, seq_len, seq_len)\n",
    "\n",
    "        # 计算最终加权 V\n",
    "        context = torch.matmul(attn, V)  # (batch_size, num_heads, seq_len, d_k)\n",
    "\n",
    "        # 重新排列并拼接多头输出\n",
    "        context = context.transpose(1, 2).contiguous().view(batch_size, seq_len, self.d_model)  # (batch_size, seq_len, d_model)\n",
    "\n",
    "        # 经过 W_o 线性变换\n",
    "        output = self.W_o(context)  # (batch_size, seq_len, d_model)\n",
    "\n",
    "        return output, attn\n"
   ]
  },
  {
   "cell_type": "code",
   "execution_count": 3,
   "metadata": {},
   "outputs": [
    {
     "ename": "RuntimeError",
     "evalue": "expand(CPUBoolType{[2, 1, 1, 512, 512]}, size=[2, 8, 512, 512]): the number of sizes provided (4) must be greater or equal to the number of dimensions in the tensor (5)",
     "output_type": "error",
     "traceback": [
      "\u001b[0;31m---------------------------------------------------------------------------\u001b[0m",
      "\u001b[0;31mRuntimeError\u001b[0m                              Traceback (most recent call last)",
      "Cell \u001b[0;32mIn[3], line 20\u001b[0m\n\u001b[1;32m     17\u001b[0m multi_head_attention \u001b[38;5;241m=\u001b[39m MultiHeadAttention(d_model, num_heads)\n\u001b[1;32m     19\u001b[0m \u001b[38;5;66;03m# 运行注意力计算\u001b[39;00m\n\u001b[0;32m---> 20\u001b[0m output, attention_weights \u001b[38;5;241m=\u001b[39m \u001b[43mmulti_head_attention\u001b[49m\u001b[43m(\u001b[49m\u001b[43mx\u001b[49m\u001b[43m,\u001b[49m\u001b[43m \u001b[49m\u001b[43mattn_mask\u001b[49m\u001b[43m)\u001b[49m\n\u001b[1;32m     22\u001b[0m \u001b[38;5;66;03m# 查看结果形状\u001b[39;00m\n\u001b[1;32m     23\u001b[0m \u001b[38;5;28mprint\u001b[39m(\u001b[38;5;124m\"\u001b[39m\u001b[38;5;124mMulti-Head Attention Output Shape:\u001b[39m\u001b[38;5;124m\"\u001b[39m, output\u001b[38;5;241m.\u001b[39mshape)  \u001b[38;5;66;03m# (batch_size, seq_len, d_model)\u001b[39;00m\n",
      "File \u001b[0;32m/localscratch/liangqi1/miniconda3/envs/transformer/lib/python3.8/site-packages/torch/nn/modules/module.py:1553\u001b[0m, in \u001b[0;36mModule._wrapped_call_impl\u001b[0;34m(self, *args, **kwargs)\u001b[0m\n\u001b[1;32m   1551\u001b[0m     \u001b[38;5;28;01mreturn\u001b[39;00m \u001b[38;5;28mself\u001b[39m\u001b[38;5;241m.\u001b[39m_compiled_call_impl(\u001b[38;5;241m*\u001b[39margs, \u001b[38;5;241m*\u001b[39m\u001b[38;5;241m*\u001b[39mkwargs)  \u001b[38;5;66;03m# type: ignore[misc]\u001b[39;00m\n\u001b[1;32m   1552\u001b[0m \u001b[38;5;28;01melse\u001b[39;00m:\n\u001b[0;32m-> 1553\u001b[0m     \u001b[38;5;28;01mreturn\u001b[39;00m \u001b[38;5;28;43mself\u001b[39;49m\u001b[38;5;241;43m.\u001b[39;49m\u001b[43m_call_impl\u001b[49m\u001b[43m(\u001b[49m\u001b[38;5;241;43m*\u001b[39;49m\u001b[43margs\u001b[49m\u001b[43m,\u001b[49m\u001b[43m \u001b[49m\u001b[38;5;241;43m*\u001b[39;49m\u001b[38;5;241;43m*\u001b[39;49m\u001b[43mkwargs\u001b[49m\u001b[43m)\u001b[49m\n",
      "File \u001b[0;32m/localscratch/liangqi1/miniconda3/envs/transformer/lib/python3.8/site-packages/torch/nn/modules/module.py:1562\u001b[0m, in \u001b[0;36mModule._call_impl\u001b[0;34m(self, *args, **kwargs)\u001b[0m\n\u001b[1;32m   1557\u001b[0m \u001b[38;5;66;03m# If we don't have any hooks, we want to skip the rest of the logic in\u001b[39;00m\n\u001b[1;32m   1558\u001b[0m \u001b[38;5;66;03m# this function, and just call forward.\u001b[39;00m\n\u001b[1;32m   1559\u001b[0m \u001b[38;5;28;01mif\u001b[39;00m \u001b[38;5;129;01mnot\u001b[39;00m (\u001b[38;5;28mself\u001b[39m\u001b[38;5;241m.\u001b[39m_backward_hooks \u001b[38;5;129;01mor\u001b[39;00m \u001b[38;5;28mself\u001b[39m\u001b[38;5;241m.\u001b[39m_backward_pre_hooks \u001b[38;5;129;01mor\u001b[39;00m \u001b[38;5;28mself\u001b[39m\u001b[38;5;241m.\u001b[39m_forward_hooks \u001b[38;5;129;01mor\u001b[39;00m \u001b[38;5;28mself\u001b[39m\u001b[38;5;241m.\u001b[39m_forward_pre_hooks\n\u001b[1;32m   1560\u001b[0m         \u001b[38;5;129;01mor\u001b[39;00m _global_backward_pre_hooks \u001b[38;5;129;01mor\u001b[39;00m _global_backward_hooks\n\u001b[1;32m   1561\u001b[0m         \u001b[38;5;129;01mor\u001b[39;00m _global_forward_hooks \u001b[38;5;129;01mor\u001b[39;00m _global_forward_pre_hooks):\n\u001b[0;32m-> 1562\u001b[0m     \u001b[38;5;28;01mreturn\u001b[39;00m \u001b[43mforward_call\u001b[49m\u001b[43m(\u001b[49m\u001b[38;5;241;43m*\u001b[39;49m\u001b[43margs\u001b[49m\u001b[43m,\u001b[49m\u001b[43m \u001b[49m\u001b[38;5;241;43m*\u001b[39;49m\u001b[38;5;241;43m*\u001b[39;49m\u001b[43mkwargs\u001b[49m\u001b[43m)\u001b[49m\n\u001b[1;32m   1564\u001b[0m \u001b[38;5;28;01mtry\u001b[39;00m:\n\u001b[1;32m   1565\u001b[0m     result \u001b[38;5;241m=\u001b[39m \u001b[38;5;28;01mNone\u001b[39;00m\n",
      "Cell \u001b[0;32mIn[2], line 40\u001b[0m, in \u001b[0;36mMultiHeadAttention.forward\u001b[0;34m(self, x, attn_mask)\u001b[0m\n\u001b[1;32m     37\u001b[0m scores \u001b[38;5;241m=\u001b[39m torch\u001b[38;5;241m.\u001b[39mmatmul(Q, K\u001b[38;5;241m.\u001b[39mtranspose(\u001b[38;5;241m-\u001b[39m\u001b[38;5;241m2\u001b[39m, \u001b[38;5;241m-\u001b[39m\u001b[38;5;241m1\u001b[39m)) \u001b[38;5;241m/\u001b[39m (\u001b[38;5;28mself\u001b[39m\u001b[38;5;241m.\u001b[39md_k \u001b[38;5;241m*\u001b[39m\u001b[38;5;241m*\u001b[39m \u001b[38;5;241m0.5\u001b[39m)  \u001b[38;5;66;03m# (batch_size, num_heads, seq_len, seq_len)\u001b[39;00m\n\u001b[1;32m     39\u001b[0m \u001b[38;5;66;03m# 处理 Mask（True 的地方设为 -1e9，防止关注 Padding）\u001b[39;00m\n\u001b[0;32m---> 40\u001b[0m attn_mask \u001b[38;5;241m=\u001b[39m \u001b[43mattn_mask\u001b[49m\u001b[38;5;241;43m.\u001b[39;49m\u001b[43munsqueeze\u001b[49m\u001b[43m(\u001b[49m\u001b[38;5;241;43m1\u001b[39;49m\u001b[43m)\u001b[49m\u001b[38;5;241;43m.\u001b[39;49m\u001b[43mexpand\u001b[49m\u001b[43m(\u001b[49m\u001b[43mbatch_size\u001b[49m\u001b[43m,\u001b[49m\u001b[43m \u001b[49m\u001b[38;5;28;43mself\u001b[39;49m\u001b[38;5;241;43m.\u001b[39;49m\u001b[43mnum_heads\u001b[49m\u001b[43m,\u001b[49m\u001b[43m \u001b[49m\u001b[43mseq_len\u001b[49m\u001b[43m,\u001b[49m\u001b[43m \u001b[49m\u001b[43mseq_len\u001b[49m\u001b[43m)\u001b[49m  \u001b[38;5;66;03m# (batch_size, num_heads, seq_len, seq_len)\u001b[39;00m\n\u001b[1;32m     41\u001b[0m scores\u001b[38;5;241m.\u001b[39mmasked_fill_(attn_mask, \u001b[38;5;241m-\u001b[39m\u001b[38;5;241m1e9\u001b[39m)\n\u001b[1;32m     43\u001b[0m \u001b[38;5;66;03m# 计算 Softmax\u001b[39;00m\n",
      "\u001b[0;31mRuntimeError\u001b[0m: expand(CPUBoolType{[2, 1, 1, 512, 512]}, size=[2, 8, 512, 512]): the number of sizes provided (4) must be greater or equal to the number of dimensions in the tensor (5)"
     ]
    }
   ],
   "source": [
    "# 定义超参数\n",
    "batch_size = 2    # 批量大小\n",
    "seq_len = 512     # 句子长度\n",
    "d_model = 256     # 词向量维度\n",
    "num_heads = 8     # 8 头注意力\n",
    "\n",
    "# 生成随机嵌入输入\n",
    "x = torch.randn(batch_size, seq_len, d_model)\n",
    "\n",
    "# 生成 Mask (batch_size, seq_len)，1 表示 Token，0 表示 Padding\n",
    "mask = torch.randint(0, 2, (batch_size, seq_len), dtype=torch.bool)  # 1 = Token, 0 = Padding\n",
    "\n",
    "# 将 Mask 变为 (batch_size, 1, seq_len, seq_len)，确保 softmax 计算时 `[PAD]` 位置被屏蔽\n",
    "attn_mask = mask.unsqueeze(1).unsqueeze(2).expand(batch_size, 1, seq_len, seq_len) == 0\n",
    "\n",
    "# 初始化多头注意力层\n",
    "multi_head_attention = MultiHeadAttention(d_model, num_heads)\n",
    "\n",
    "# 运行注意力计算\n",
    "output, attention_weights = multi_head_attention(x, attn_mask)\n",
    "\n",
    "# 查看结果形状\n",
    "print(\"Multi-Head Attention Output Shape:\", output.shape)  # (batch_size, seq_len, d_model)\n",
    "print(\"Attention Weights Shape:\", attention_weights.shape)  # (batch_size, num_heads, seq_len, seq_len)\n"
   ]
  },
  {
   "cell_type": "markdown",
   "metadata": {},
   "source": [
    "## **🔹 3. 单头 vs 多头注意力对比**\n",
    "| 机制 | `d_model` | `d_k`（Key 维度） | `d_v`（Value 维度） | 计算方式 |\n",
    "|------|----------|----------------|----------------|------------|\n",
    "| **单头注意力（Single-Head Attention）** | `256` | `256` | `256` | 只计算 1 次注意力 |\n",
    "| **多头注意力（Multi-Head Attention）** | `256` | `32`（8 头拆分） | `32` | `8` 组 Attention 并行计算后拼接 |\n",
    "\n",
    "\n",
    "\n",
    "---\n",
    "\n",
    "## **🔹 4. 代码示例**\n",
    "```python\n",
    "import torch\n",
    "import torch.nn as nn\n",
    "\n",
    "class MultiHeadAttention(nn.Module):\n",
    "    def __init__(self, d_model, num_heads):\n",
    "        super(MultiHeadAttention, self).__init__()\n",
    "        assert d_model % num_heads == 0, \"d_model 必须能被 num_heads 整除！\"\n",
    "        \n",
    "        self.num_heads = num_heads\n",
    "        self.d_k = d_model // num_heads  # 每个头的维度\n",
    "        self.d_model = d_model\n",
    "\n",
    "        # 线性变换 Q, K, V\n",
    "        self.W_q = nn.Linear(d_model, d_model, bias=False)\n",
    "        self.W_k = nn.Linear(d_model, d_model, bias=False)\n",
    "        self.W_v = nn.Linear(d_model, d_model, bias=False)\n",
    "        self.W_o = nn.Linear(d_model, d_model, bias=False)\n",
    "\n",
    "        self.softmax = nn.Softmax(dim=-1)\n",
    "\n",
    "    def forward(self, x):\n",
    "        batch_size, seq_len, _ = x.shape\n",
    "\n",
    "        # 计算 Q, K, V 并 reshape 成 (batch_size, num_heads, seq_len, d_k)\n",
    "        Q = self.W_q(x).view(batch_size, seq_len, self.num_heads, self.d_k).transpose(1, 2)\n",
    "        K = self.W_k(x).view(batch_size, seq_len, self.num_heads, self.d_k).transpose(1, 2)\n",
    "        V = self.W_v(x).view(batch_size, seq_len, self.num_heads, self.d_k).transpose(1, 2)\n",
    "\n",
    "        # 计算注意力分数\n",
    "        d_k = self.d_k ** 0.5\n",
    "        attention_scores = torch.matmul(Q, K.transpose(-2, -1)) / d_k\n",
    "        attention_weights = self.softmax(attention_scores)\n",
    "\n",
    "        # 计算加权 V\n",
    "        output = torch.matmul(attention_weights, V)\n",
    "\n",
    "        # 重新拼接多头输出\n",
    "        output = output.transpose(1, 2).contiguous().view(batch_size, seq_len, self.d_model)\n",
    "\n",
    "        # 经过 W_o 线性变换\n",
    "        return self.W_o(output)\n",
    "```\n",
    "\n",
    "---\n",
    "\n",
    "🚀 **这样，你就完整掌握了单头注意力和多头注意力的核心计算过程和代码实现！🎉**"
   ]
  },
  {
   "cell_type": "markdown",
   "metadata": {},
   "source": []
  }
 ],
 "metadata": {
  "kernelspec": {
   "display_name": "transformer",
   "language": "python",
   "name": "python3"
  },
  "language_info": {
   "codemirror_mode": {
    "name": "ipython",
    "version": 3
   },
   "file_extension": ".py",
   "mimetype": "text/x-python",
   "name": "python",
   "nbconvert_exporter": "python",
   "pygments_lexer": "ipython3",
   "version": "3.8.20"
  }
 },
 "nbformat": 4,
 "nbformat_minor": 2
}
